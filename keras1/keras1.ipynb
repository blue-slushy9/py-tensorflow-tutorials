{
  "cells": [
    {
      "cell_type": "markdown",
      "metadata": {
        "id": "view-in-github",
        "colab_type": "text"
      },
      "source": [
        "<a href=\"https://colab.research.google.com/github/blue-slushy9/py-tensorflow-tutorials/blob/main/keras_beginners.ipynb\" target=\"_parent\"><img src=\"https://colab.research.google.com/assets/colab-badge.svg\" alt=\"Open In Colab\"/></a>"
      ]
    },
    {
      "cell_type": "code",
      "execution_count": 1,
      "metadata": {
        "colab": {
          "base_uri": "https://localhost:8080/",
          "height": 108
        },
        "id": "mXYX3SszEjr4",
        "outputId": "8c46487d-3cb9-4f55-f2ff-74dd70cc7607"
      },
      "outputs": [
        {
          "output_type": "error",
          "ename": "SyntaxError",
          "evalue": "invalid syntax (<ipython-input-1-df935c817e0d>, line 9)",
          "traceback": [
            "\u001b[0;36m  File \u001b[0;32m\"<ipython-input-1-df935c817e0d>\"\u001b[0;36m, line \u001b[0;32m9\u001b[0m\n\u001b[0;31m    (x_train, y_train), (x_test, y_test) mnist.load_data()\u001b[0m\n\u001b[0m                                         ^\u001b[0m\n\u001b[0;31mSyntaxError\u001b[0m\u001b[0;31m:\u001b[0m invalid syntax\n"
          ]
        }
      ],
      "source": [
        "import tensorflow as tf\n",
        "print('TensorFlow version:', tf.__version__)\n",
        "\n",
        "# Load the module to access the MNIST dataset\n",
        "mnist = tf.keras.datasets.mnist\n",
        "\n",
        "# The returned values in the ()'s are tuples, x_train & x_test are arrays\n",
        "# containing the images, and y_train & y_test are arrays containing the labels\n",
        "(x_train, y_train), (x_test, y_test) = mnist.load_data()\n",
        "\n",
        "# Performs data normalization on the pixel values of the images in the training\n",
        "# and testing datasets\n",
        "x_train, x_test = x_train / 255.0, x_test / 255.0\n",
        "\n",
        "# Build a tf.keras.Sequential model, layer by layer\n",
        "model = tf.keras.models.Sequential([\n",
        "    # Flatten converts multi-dimensional data into a one-dimensional array\n",
        "    tf.keras.layers.Flatten(input_shape=(28, 28)),\n",
        "    # Dense is a fully connected neural network layer\n",
        "    tf.keras.layers.Dense(128, activation='relu'),\n",
        "    # Dropout is a regularization technique used to prevent overfitting\n",
        "    tf.keras.layers.Dropout(0.2),\n",
        "    # Dense layer will apply a linear activation function to the output of each\n",
        "    # neuron\n",
        "    tf.keras.layers.Dense(10)\n",
        "])\n",
        "\n",
        "# Performs inference using the trained model on a single input data point from\n",
        "# the training set x_train\n",
        "predictions = model(x_train[:1]).numpy()\n",
        "# i.e. same thing as 'print(predictions)'\n",
        "predictions\n",
        "\n",
        "# Converts the above logits to probabilities for each class\n",
        "tf.nn.softmax(predictions).numpy()\n",
        "\n",
        "# Define a loss function for training\n",
        "loss_fn = tf.keras.losses.SparseCategoricalCrossentropy(from_logits=True)\n",
        "\n",
        "# Calling the loss_fn() defined above, with arguments\n",
        "loss_fn(y_train[:1], predictions).numpy()\n",
        "\n",
        "# Configure and compile the model for training\n",
        "model.compile(optimizer='adam',\n",
        "              loss=loss_fn,\n",
        "              metrics=['accuracy'])\n",
        "\n",
        "# Adjust model parameters and minimize loss\n",
        "model.fit(x_train, y_train, epochs=5)\n",
        "\n",
        "# Checks the model's performance, usually on a separate validation or test set\n",
        "model.evaluate(x_test, y_test, verbose=2)\n",
        "\n",
        "# Wrap the trained model and attach the softmax to it to return a probability\n",
        "probability_model = tf.keras.Sequential([\n",
        "    model,\n",
        "    tf.keras.layers.Softmax()\n",
        "])\n",
        "# i.e. 'print(probability_model(x_test[:5]))'\n",
        "probability_model(x_test[:5])"
      ]
    }
  ],
  "metadata": {
    "colab": {
      "provenance": [],
      "include_colab_link": true
    },
    "kernelspec": {
      "display_name": "Python 3",
      "name": "python3"
    },
    "language_info": {
      "name": "python"
    }
  },
  "nbformat": 4,
  "nbformat_minor": 0
}